{
 "cells": [
  {
   "cell_type": "markdown",
   "metadata": {},
   "source": [
    "# Testing the accuracy of perturbative calculations\n",
    "The simulator makes use of first-order perturbative calculations. The accuracy of these calculations is estimated through a comparison with exact calculations for small systems, for which an exact calculation is computationally feasible."
   ]
  },
  {
   "cell_type": "code",
   "execution_count": 2,
   "metadata": {},
   "outputs": [],
   "source": [
    "%load_ext autoreload\n",
    "%autoreload 2"
   ]
  },
  {
   "cell_type": "code",
   "execution_count": 17,
   "metadata": {},
   "outputs": [],
   "source": [
    "import matplotlib.pyplot as plt\n",
    "import seaborn as sns\n",
    "import pandas as pd\n",
    "import numpy as np\n",
    "from matrixensembles import BosonChainSampler, MatrixStats, BosonOHSampler\n",
    "from studies import ManyBodyLevels\n",
    "import itertools\n",
    "from utils import bosonmatplot, errorhist, paramstring\n",
    "from operators import BosonSystemSpec"
   ]
  },
  {
   "cell_type": "markdown",
   "metadata": {},
   "source": [
    "## Small system\n",
    "This is a simulation of a small system. The eigenvalues and spacings can be inspected manually.\n",
    "\n",
    "If $t=0$, the eigenstates are the canonical basis vectors and the perturbative calculation is exact. Indeed, the numerical calculation reports exactly the same values as the perturbative one.\n",
    "\n",
    "For $t = 1$, the perturbative calculation seems to lose accuracy at around $K \\approx 0.01$"
   ]
  },
  {
   "cell_type": "code",
   "execution_count": 47,
   "metadata": {},
   "outputs": [
    {
     "name": "stdout",
     "output_type": "stream",
     "text": [
      "E with K=0:  16 18 18 20 20 20 20 22 22 24\n",
      "E:  16 18.01 18.01 20 20 20.01 20.02 22.01 22.01 24.01\n",
      "S:  2.005 3.553e-15 1.99 3.553e-15 0.01 0.01 1.99 1.066e-14 1.995 \n",
      "\n",
      "20.02 1.414 0 1.414 0 0 0 0 0 0  ;  2 0 0 0\n",
      "1.414 20 1 0 1.414 0 1 0 0 0  ;  1 1 0 0\n",
      "0 1 20 1 0 1 0 0 1 0  ;  1 0 1 0\n",
      "1.414 0 1 20 0 0 1 0 0 1.414  ;  1 0 0 1\n",
      "0 1.414 0 0 20.02 1.414 0 0 0 0  ;  0 2 0 0\n",
      "0 0 1 0 1.414 20 1 1.414 0 0  ;  0 1 1 0\n",
      "0 1 0 1 0 1 20 0 1 0  ;  0 1 0 1\n",
      "0 0 0 0 0 1.414 0 20.02 1.414 0  ;  0 0 2 0\n",
      "0 0 1 0 0 0 1 1.414 20 1.414  ;  0 0 1 1\n",
      "0 0 0 1.414 0 0 0 0 1.414 20.02  ;  0 0 0 2\n",
      "\n"
     ]
    },
    {
     "name": "stderr",
     "output_type": "stream",
     "text": [
      "100%|██████████| 1/1 [00:00<00:00, 784.28it/s]\n",
      "100%|██████████| 10/10 [00:00<00:00, 15691.37it/s]"
     ]
    },
    {
     "name": "stdout",
     "output_type": "stream",
     "text": [
      "perturbative E:  16 18.01 18.01 20 20.01 20.01 20.01 22.01 22.01 24\n",
      "perturbative S:  2.005 0 1.99 0.01 0 3.553e-15 2 3.553e-15 1.995\n"
     ]
    },
    {
     "name": "stderr",
     "output_type": "stream",
     "text": [
      "\n"
     ]
    }
   ],
   "source": [
    "### Exact\n",
    "n, e = 4, 2\n",
    "K = 0.01\n",
    "t = 1\n",
    "sampler = BosonChainSampler(n, 0., t, K=0, e=e)\n",
    "sample = sampler.sample()\n",
    "print(f\"E with K=0: \", \" \".join([f\"{v:.4g}\" for v in np.linalg.eigvalsh(sample)]))\n",
    "\n",
    "sampler = BosonChainSampler(n, 0., t, K=K, e=e)\n",
    "systemspec = BosonSystemSpec(n, e)\n",
    "sample = sampler.sample()\n",
    "bosonmatplot(systemspec, sample)\n",
    "print()\n",
    "\n",
    "### Perturbative\n",
    "sampler = BosonChainSampler(n, 0., t, e=1)\n",
    "study = ManyBodyLevels(e, K)\n",
    "matrixstats = MatrixStats(sampler)\n",
    "matrixstats.collect(n_realizations=1, eigenvectors=True)\n",
    "manybody = study(matrixstats)\n",
    "print(\"perturbative E: \", \" \".join([f\"{v:.4g}\" for v in manybody.eigenvalues().flatten()]))\n",
    "print(\"perturbative S: \", \" \".join([f\"{v:.4g}\" for v in manybody.spacings().flatten()]))"
   ]
  },
  {
   "cell_type": "markdown",
   "metadata": {},
   "source": [
    "## Manual verification\n",
    "\n",
    "Let's consider the following system. Eigenvalues are calculated with the exact method, with the perturbative method, and with the perturbative formula derived by hand for 2 bosons.\n",
    "\n",
    "The two perturbative calculations are in perfect agreement. The perturbative calculation is close to the exact one, but not enough to get correct spacings, as shown afterwards."
   ]
  },
  {
   "cell_type": "code",
   "execution_count": 39,
   "metadata": {},
   "outputs": [
    {
     "name": "stderr",
     "output_type": "stream",
     "text": [
      "100%|██████████| 1/1 [00:00<00:00, 479.62it/s]\n"
     ]
    },
    {
     "name": "stderr",
     "output_type": "stream",
     "text": [
      "100%|██████████| 10/10 [00:00<00:00, 7704.45it/s]"
     ]
    },
    {
     "name": "stdout",
     "output_type": "stream",
     "text": [
      "exact eigenvalues:                  16.142 18.139 18.392 20.053 20.264 20.318 20.642 22.272 22.552 24.417\n",
      "perturbative eigenvalues:           16.144 18.141 18.395 20.066 20.270 20.311 20.629 22.269 22.549 24.416\n",
      "perturbative eigenvalues (by hand): 16.144 18.141 18.395 20.066 20.270 20.311 20.629 22.269 22.549 24.416\n"
     ]
    },
    {
     "name": "stderr",
     "output_type": "stream",
     "text": [
      "\n"
     ]
    }
   ],
   "source": [
    "n, e = 4, 2\n",
    "K = 0.1\n",
    "t = 1\n",
    "W = 0.5\n",
    "# exact\n",
    "rng = np.random.default_rng(seed=42)\n",
    "sampler = BosonChainSampler(n, W, t, K=K, e=e, rng=rng)\n",
    "sample = sampler.sample()\n",
    "exact_eigenvalues = np.linalg.eigvalsh(sample)\n",
    "\n",
    "# perturbative\n",
    "rng = np.random.default_rng(seed=42)\n",
    "sampler = BosonChainSampler(n, W, t, e=1, rng=rng)\n",
    "study = ManyBodyLevels(e, K)\n",
    "matrixstats = MatrixStats(sampler)\n",
    "matrixstats.collect(n_realizations=1, eigenvectors=True)\n",
    "manybody = study(matrixstats)\n",
    "eigenvalues = np.linalg.eigvalsh(sampler.sample())\n",
    "print(\"exact eigenvalues:                 \", \" \".join([f\"{v:.3f}\" for v in exact_eigenvalues]))\n",
    "print(\"perturbative eigenvalues:          \", \" \".join([f\"{v:.3f}\" for v in manybody.eigenvalues().flatten()]))\n",
    "\n",
    "# calculate perturbation by hand\n",
    "def pert_2(v1, v2):\n",
    "\t\"\"\" First order perturbation for two particles in states v1 and v2. \"\"\"\n",
    "\tdE = 4*K*np.sum(np.abs(v1*v2)**2) / (1 + np.abs(np.sum(np.conj(v1)*v2))**2)\n",
    "\treturn dE\n",
    "\n",
    "evc = matrixstats.eigenvectors()\n",
    "eva = matrixstats.eigenvalues()\n",
    "pert_E = []\n",
    "for i, j in itertools.combinations_with_replacement(range(n), 2):\n",
    "\tv1, v2 = evc[0, :, i], evc[0, :, j]\n",
    "\tpert_E.append(eva[0, i] + eva[0, j] + pert_2(v1, v2))\n",
    "\n",
    "pert_E = np.sort(pert_E)\n",
    "print(\"perturbative eigenvalues (by hand):\", \" \".join([f\"{v:.3f}\" for v in pert_E]))"
   ]
  },
  {
   "cell_type": "markdown",
   "metadata": {},
   "source": [
    "### Inspecting the states\n",
    "Eigenvalues and vectors can be inspected to have a further confirmation that everything is as expected. Consider the eigenstate $\\left|1100\\right>$ in diagonal basis, second quantization. The single particle eigenvectors $\\left|1000\\right>$ and $\\left|0100\\right>$ in the single-particle canonical basis are:"
   ]
  },
  {
   "cell_type": "code",
   "execution_count": 51,
   "metadata": {},
   "outputs": [
    {
     "name": "stdout",
     "output_type": "stream",
     "text": [
      "E=8.00 eigenvector:  0.500 -0.500 0.500 -0.500\n",
      "E=10.00 eigenvector:  -0.707 -0.000 0.707 0.000\n",
      "They really are eigenvectors\n",
      "Eigenvector 1:  0.500 -0.500 0.500 -0.500\n",
      "Eigenvector 2:  -0.707 -0.000 0.707 0.000\n"
     ]
    }
   ],
   "source": [
    "evc = matrixstats.eigenvectors()\n",
    "eva = matrixstats.eigenvalues()\n",
    "print(f\"E={eva[0, 0]:.2f} eigenvector: \", \" \".join([f\"{v:.3f}\" for v in evc[0, :, 0]]))\n",
    "print(f\"E={eva[0, 1]:.2f} eigenvector: \", \" \".join([f\"{v:.3f}\" for v in evc[0, :, 1]]))\n",
    "\n",
    "# check that they are actually eigenvectors\n",
    "mat = sampler.sample().get() # the randomness is turned off,\n",
    "# so the sample is the same as the previous one\n",
    "print(\"They really are eigenvectors\")\n",
    "print(\"Eigenvector 1: \", \" \".join([f\"{v:.3f}\" for v in mat @ evc[0, :, 0] / eva[0, 0]]))\n",
    "print(\"Eigenvector 2: \", \" \".join([f\"{v:.3f}\" for v in mat @ evc[0, :, 1] / eva[0, 1]]))"
   ]
  },
  {
   "cell_type": "markdown",
   "metadata": {},
   "source": [
    "## Comparison of 2-particle correlation statistic\n",
    "\n",
    "The average correlation between adjacent spacings ($r$ scalar) is calculated with the exact method as well as the perturbative one. The perturbative method is not able to reach a high $r$, it seems like it always sees Poisson-distributed energies."
   ]
  },
  {
   "cell_type": "code",
   "execution_count": null,
   "metadata": {},
   "outputs": [
    {
     "name": "stderr",
     "output_type": "stream",
     "text": [
      "  0%|          | 0/20 [00:00<?, ?it/s]"
     ]
    },
    {
     "name": "stderr",
     "output_type": "stream",
     "text": [
      "100%|██████████| 20/20 [00:09<00:00,  2.10it/s]\n"
     ]
    },
    {
     "name": "stdout",
     "output_type": "stream",
     "text": [
      "r = 0.42\n",
      "\n"
     ]
    },
    {
     "name": "stderr",
     "output_type": "stream",
     "text": [
      "100%|██████████| 20/20 [00:00<00:00, 395.18it/s]\n",
      "100%|██████████| 2002/2002 [00:00<00:00, 5537.43it/s]"
     ]
    },
    {
     "name": "stdout",
     "output_type": "stream",
     "text": [
      "r = 0.39\n",
      "\n"
     ]
    },
    {
     "name": "stderr",
     "output_type": "stream",
     "text": [
      "\n"
     ]
    }
   ],
   "source": [
    "### Exact\n",
    "n, e = 10, 5\n",
    "K = 0.1\n",
    "sampler = BosonChainSampler(n, 2, 1, K=K, e=e, w0=100)\n",
    "matrixstats = MatrixStats(sampler)\n",
    "matrixstats.collect(n_realizations=20, eigenvectors=False)\n",
    "print(f\"r = {np.mean(matrixstats.d2correlations()):.2f}\\n\")\n",
    "\n",
    "### Perturbative\n",
    "sampler = BosonChainSampler(n, 2, 1, e=1, w0=100)\n",
    "study = ManyBodyLevels(e, K)\n",
    "matrixstats = MatrixStats(sampler)\n",
    "matrixstats.collect(n_realizations=20, eigenvectors=True)\n",
    "manybody = study(matrixstats)\n",
    "print(f\"r = {np.mean(manybody.d2correlations()):.2f}\\n\")"
   ]
  },
  {
   "cell_type": "markdown",
   "metadata": {},
   "source": [
    "### Dependency between errors on spacings and perturbation strength\n",
    "A small system is considered and the spacings distribution is calculated with the exact method as well as the perturbative one. The two methods of calculation do not agree."
   ]
  },
  {
   "cell_type": "code",
   "execution_count": 53,
   "metadata": {},
   "outputs": [
    {
     "name": "stderr",
     "output_type": "stream",
     "text": [
      "  0%|          | 0/1000 [00:00<?, ?it/s]"
     ]
    },
    {
     "name": "stderr",
     "output_type": "stream",
     "text": [
      "100%|██████████| 1000/1000 [07:44<00:00,  2.15it/s]\n",
      "100%|██████████| 1000/1000 [00:02<00:00, 396.83it/s]\n",
      "100%|██████████| 2002/2002 [00:13<00:00, 146.05it/s]\n"
     ]
    }
   ],
   "source": [
    "K = 0.1\n",
    "### Exact\n",
    "n, e = 10, 5\n",
    "sampler = BosonChainSampler(n, 2, 1, K=K, e=e, w0=100)\n",
    "matrixstats = MatrixStats(sampler)\n",
    "matrixstats.collect(n_realizations=1000, eigenvectors=False)\n",
    "\n",
    "### Perturbative\n",
    "sampler = BosonChainSampler(n, 2, 1, e=1, w0=100)\n",
    "study = ManyBodyLevels(e, K)\n",
    "sstats = MatrixStats(sampler)\n",
    "sstats.collect(n_realizations=1000, eigenvectors=True)\n",
    "manybody = study(sstats)"
   ]
  },
  {
   "cell_type": "code",
   "execution_count": 57,
   "metadata": {},
   "outputs": [
    {
     "name": "stdout",
     "output_type": "stream",
     "text": [
      "Area error: 11.9%\n"
     ]
    },
    {
     "data": {
      "image/png": "[encoded data removed]",
      "text/plain": [
       "<Figure size 640x480 with 1 Axes>"
      ]
     },
     "metadata": {},
     "output_type": "display_data"
    }
   ],
   "source": [
    "rg = (matrixstats.d2correlations().min(), matrixstats.d2correlations().max())\n",
    "exact_hist, exact_edges = np.histogram(matrixstats.d2correlations(), bins=50, range=rg, density=True)\n",
    "pert_hist, pert_edges = np.histogram(manybody.d2correlations(), bins=50, range=rg, density=True)\n",
    "plt.step(exact_edges[:-1], exact_hist, label=\"Exact\", where=\"pre\")\n",
    "plt.step(pert_edges[:-1], pert_hist, label=\"Perturbative\", where=\"pre\")\n",
    "plt.xlim(0, 1.)\n",
    "plt.legend()\n",
    "plt.xlabel(r\"$r$\")\n",
    "plt.ylabel(r\"Density\")\n",
    "plt.title(\"Distribution of two particle correlation $r$\")\n",
    "error_percentage = np.sum(np.abs(exact_hist - pert_hist) * (exact_edges[1] - exact_edges[0]))\n",
    "print(f\"Area error: {error_percentage:.1%}\")"
   ]
  }
 ],
 "metadata": {
  "kernelspec": {
   "display_name": "Python 3",
   "language": "python",
   "name": "python3"
  },
  "language_info": {
   "codemirror_mode": {
    "name": "ipython",
    "version": 3
   },
   "file_extension": ".py",
   "mimetype": "text/x-python",
   "name": "python",
   "nbconvert_exporter": "python",
   "pygments_lexer": "ipython3",
   "version": "3.11.5"
  },
  "orig_nbformat": 4
 },
 "nbformat": 4,
 "nbformat_minor": 2
}
